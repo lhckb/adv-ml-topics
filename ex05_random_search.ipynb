{
 "cells": [
  {
   "cell_type": "markdown",
   "metadata": {},
   "source": [
    "# ATV 05 - Random Search"
   ]
  },
  {
   "cell_type": "markdown",
   "metadata": {},
   "source": [
    "## Imports e Divisão train/test"
   ]
  },
  {
   "cell_type": "code",
   "execution_count": 59,
   "metadata": {},
   "outputs": [
    {
     "data": {
      "text/plain": [
       "[]"
      ]
     },
     "execution_count": 59,
     "metadata": {},
     "output_type": "execute_result"
    }
   ],
   "source": [
    "import matplotlib.pyplot as plt\n",
    "\n",
    "import tensorflow as tf\n",
    "from tensorflow.keras.datasets import mnist\n",
    "from tensorflow.keras.utils import to_categorical\n",
    "from tensorflow.keras import Sequential\n",
    "from tensorflow.keras.layers import Dense, Input\n",
    "from tensorflow.keras.callbacks import EarlyStopping\n",
    "from scikeras.wrappers import KerasClassifier\n",
    "import keras_tuner\n",
    "\n",
    "from sklearn.metrics import accuracy_score\n",
    "from sklearn.model_selection import GridSearchCV\n",
    "\n",
    "import numpy as np\n",
    "import random\n",
    "\n",
    "RANDOM_STATE = 42\n",
    "\n",
    "random.seed(RANDOM_STATE)\n",
    "np.random.seed(RANDOM_STATE)\n",
    "tf.random.set_seed(RANDOM_STATE)\n",
    "\n",
    "tf.config.list_physical_devices('GPU')"
   ]
  },
  {
   "cell_type": "code",
   "execution_count": 60,
   "metadata": {},
   "outputs": [
    {
     "data": {
      "text/plain": [
       "((60000, 28, 28), (10000, 28, 28))"
      ]
     },
     "execution_count": 60,
     "metadata": {},
     "output_type": "execute_result"
    }
   ],
   "source": [
    "(X_all, y_all), (X_test, y_test) = mnist.load_data()\n",
    "X_all.shape, X_test.shape"
   ]
  },
  {
   "cell_type": "code",
   "execution_count": 61,
   "metadata": {},
   "outputs": [
    {
     "data": {
      "text/plain": [
       "numpy.ndarray"
      ]
     },
     "execution_count": 61,
     "metadata": {},
     "output_type": "execute_result"
    }
   ],
   "source": [
    "X_train = X_all[10000:]\n",
    "X_valid = X_all[:10000]\n",
    "\n",
    "y_train = y_all[10000:]\n",
    "y_valid = y_all[:10000]\n",
    "\n",
    "type(X_test)"
   ]
  },
  {
   "cell_type": "markdown",
   "metadata": {},
   "source": [
    "## Visualizando algumas imagens da base"
   ]
  },
  {
   "cell_type": "markdown",
   "metadata": {},
   "source": [
    "Imagens 28x28 de ints representando a escala de cinza de 0 (preto) a 255 (branco)"
   ]
  },
  {
   "cell_type": "code",
   "execution_count": 62,
   "metadata": {},
   "outputs": [
    {
     "data": {
      "image/png": "[encoded data removed]",
      "text/plain": [
       "<Figure size 1800x500 with 3 Axes>"
      ]
     },
     "metadata": {},
     "output_type": "display_data"
    }
   ],
   "source": [
    "plt.figure(figsize=(18, 5))\n",
    "for i in range(3):\n",
    "    plt.subplot(1, 3, i+1)\n",
    "    plt.axis(True)\n",
    "    plt.imshow(X_all[i], cmap='gray')\n",
    "    plt.subplots_adjust(wspace=0.2, hspace=0.2)"
   ]
  },
  {
   "cell_type": "code",
   "execution_count": 63,
   "metadata": {},
   "outputs": [
    {
     "data": {
      "text/plain": [
       "array([[  0,   0,   0,   0,   0,   0,   0,   0,   0,   0,   0,   0,   0,\n",
       "          0,   0,   0,   0,   0,   0,   0,   0,   0,   0,   0,   0,   0,\n",
       "          0,   0],\n",
       "       [  0,   0,   0,   0,   0,   0,   0,   0,   0,   0,   0,   0,   0,\n",
       "          0,   0,   0,   0,   0,   0,   0,   0,   0,   0,   0,   0,   0,\n",
       "          0,   0],\n",
       "       [  0,   0,   0,   0,   0,   0,   0,   0,   0,   0,   0,   0,   0,\n",
       "          0,   0,   0,   0,   0,   0,   0,   0,   0,   0,   0,   0,   0,\n",
       "          0,   0],\n",
       "       [  0,   0,   0,   0,   0,   0,   0,   0,   0,   0,   0,   0,   0,\n",
       "          0,   0,   0,   0,   0,   0,   0,   0,   0,   0,   0,   0,   0,\n",
       "          0,   0],\n",
       "       [  0,   0,   0,   0,   0,   0,   0,   0,   0,   0,   0,   0,   0,\n",
       "          0,   0,   0,   0,   0,   0,   0,   0,   0,   0,   0,   0,   0,\n",
       "          0,   0],\n",
       "       [  0,   0,   0,   0,   0,   0,   0,   0,   0,  29, 150, 195, 254,\n",
       "        255, 254, 176, 193, 150,  96,   0,   0,   0,   0,   0,   0,   0,\n",
       "          0,   0],\n",
       "       [  0,   0,   0,   0,   0,   0,   0,  48, 166, 224, 253, 253, 234,\n",
       "        196, 253, 253, 253, 253, 233,   0,   0,   0,   0,   0,   0,   0,\n",
       "          0,   0],\n",
       "       [  0,   0,   0,   0,   0,  93, 244, 249, 253, 187,  46,  10,   8,\n",
       "          4,  10, 194, 253, 253, 233,   0,   0,   0,   0,   0,   0,   0,\n",
       "          0,   0],\n",
       "       [  0,   0,   0,   0,   0, 107, 253, 253, 230,  48,   0,   0,   0,\n",
       "          0,   0, 192, 253, 253, 156,   0,   0,   0,   0,   0,   0,   0,\n",
       "          0,   0],\n",
       "       [  0,   0,   0,   0,   0,   3,  20,  20,  15,   0,   0,   0,   0,\n",
       "          0,  43, 224, 253, 245,  74,   0,   0,   0,   0,   0,   0,   0,\n",
       "          0,   0],\n",
       "       [  0,   0,   0,   0,   0,   0,   0,   0,   0,   0,   0,   0,   0,\n",
       "          0, 249, 253, 245, 126,   0,   0,   0,   0,   0,   0,   0,   0,\n",
       "          0,   0],\n",
       "       [  0,   0,   0,   0,   0,   0,   0,   0,   0,   0,   0,  14, 101,\n",
       "        223, 253, 248, 124,   0,   0,   0,   0,   0,   0,   0,   0,   0,\n",
       "          0,   0],\n",
       "       [  0,   0,   0,   0,   0,   0,   0,   0,   0,  11, 166, 239, 253,\n",
       "        253, 253, 187,  30,   0,   0,   0,   0,   0,   0,   0,   0,   0,\n",
       "          0,   0],\n",
       "       [  0,   0,   0,   0,   0,   0,   0,   0,   0,  16, 248, 250, 253,\n",
       "        253, 253, 253, 232, 213, 111,   2,   0,   0,   0,   0,   0,   0,\n",
       "          0,   0],\n",
       "       [  0,   0,   0,   0,   0,   0,   0,   0,   0,   0,   0,  43,  98,\n",
       "         98, 208, 253, 253, 253, 253, 187,  22,   0,   0,   0,   0,   0,\n",
       "          0,   0],\n",
       "       [  0,   0,   0,   0,   0,   0,   0,   0,   0,   0,   0,   0,   0,\n",
       "          0,   9,  51, 119, 253, 253, 253,  76,   0,   0,   0,   0,   0,\n",
       "          0,   0],\n",
       "       [  0,   0,   0,   0,   0,   0,   0,   0,   0,   0,   0,   0,   0,\n",
       "          0,   0,   0,   1, 183, 253, 253, 139,   0,   0,   0,   0,   0,\n",
       "          0,   0],\n",
       "       [  0,   0,   0,   0,   0,   0,   0,   0,   0,   0,   0,   0,   0,\n",
       "          0,   0,   0,   0, 182, 253, 253, 104,   0,   0,   0,   0,   0,\n",
       "          0,   0],\n",
       "       [  0,   0,   0,   0,   0,   0,   0,   0,   0,   0,   0,   0,   0,\n",
       "          0,   0,   0,  85, 249, 253, 253,  36,   0,   0,   0,   0,   0,\n",
       "          0,   0],\n",
       "       [  0,   0,   0,   0,   0,   0,   0,   0,   0,   0,   0,   0,   0,\n",
       "          0,   0,  60, 214, 253, 253, 173,  11,   0,   0,   0,   0,   0,\n",
       "          0,   0],\n",
       "       [  0,   0,   0,   0,   0,   0,   0,   0,   0,   0,   0,   0,   0,\n",
       "          0,  98, 247, 253, 253, 226,   9,   0,   0,   0,   0,   0,   0,\n",
       "          0,   0],\n",
       "       [  0,   0,   0,   0,   0,   0,   0,   0,   0,   0,   0,   0,  42,\n",
       "        150, 252, 253, 253, 233,  53,   0,   0,   0,   0,   0,   0,   0,\n",
       "          0,   0],\n",
       "       [  0,   0,   0,   0,   0,   0,  42, 115,  42,  60, 115, 159, 240,\n",
       "        253, 253, 250, 175,  25,   0,   0,   0,   0,   0,   0,   0,   0,\n",
       "          0,   0],\n",
       "       [  0,   0,   0,   0,   0,   0, 187, 253, 253, 253, 253, 253, 253,\n",
       "        253, 197,  86,   0,   0,   0,   0,   0,   0,   0,   0,   0,   0,\n",
       "          0,   0],\n",
       "       [  0,   0,   0,   0,   0,   0, 103, 253, 253, 253, 253, 253, 232,\n",
       "         67,   1,   0,   0,   0,   0,   0,   0,   0,   0,   0,   0,   0,\n",
       "          0,   0],\n",
       "       [  0,   0,   0,   0,   0,   0,   0,   0,   0,   0,   0,   0,   0,\n",
       "          0,   0,   0,   0,   0,   0,   0,   0,   0,   0,   0,   0,   0,\n",
       "          0,   0],\n",
       "       [  0,   0,   0,   0,   0,   0,   0,   0,   0,   0,   0,   0,   0,\n",
       "          0,   0,   0,   0,   0,   0,   0,   0,   0,   0,   0,   0,   0,\n",
       "          0,   0],\n",
       "       [  0,   0,   0,   0,   0,   0,   0,   0,   0,   0,   0,   0,   0,\n",
       "          0,   0,   0,   0,   0,   0,   0,   0,   0,   0,   0,   0,   0,\n",
       "          0,   0]], dtype=uint8)"
      ]
     },
     "execution_count": 63,
     "metadata": {},
     "output_type": "execute_result"
    }
   ],
   "source": [
    "X_train[0]"
   ]
  },
  {
   "cell_type": "markdown",
   "metadata": {},
   "source": [
    "## Normalização dos pixels para o range 0, 1"
   ]
  },
  {
   "cell_type": "markdown",
   "metadata": {},
   "source": [
    "achatando cada linha 2D 28 x 28 em um array 1D de tamanho 784\n",
    "\n",
    "considerar a intensidade de cada pixel como sua feature individual é uma abordagem \"ingênua\" e simplória porem suficiente para esse caso. "
   ]
  },
  {
   "cell_type": "code",
   "execution_count": 64,
   "metadata": {},
   "outputs": [],
   "source": [
    "X_train = X_train.reshape((X_train.shape[0], 28 * 28))\n",
    "X_train = X_train.astype(\"float32\") / 255\n",
    "\n",
    "X_test = X_test.reshape((X_test.shape[0], 28 * 28))\n",
    "X_test = X_test.astype(\"float32\") / 255\n",
    "\n",
    "X_valid = X_valid.reshape((X_valid.shape[0], 28 * 28))\n",
    "X_valid = X_valid.astype(\"float32\") / 255"
   ]
  },
  {
   "cell_type": "markdown",
   "metadata": {},
   "source": [
    "## Encoding da saída"
   ]
  },
  {
   "cell_type": "markdown",
   "metadata": {},
   "source": [
    "A camada de saída terá 10 neurônios representando os caracteres de 0 a 9, e cada um terá como saída a probabilidade de ser cada um. Para isso é necessário colocar como entrada da classe real um vetor da classe one-hot encoded, em que por tabela cada index representa a probabilidade de ser cada caracter"
   ]
  },
  {
   "cell_type": "code",
   "execution_count": 65,
   "metadata": {},
   "outputs": [
    {
     "data": {
      "text/plain": [
       "array([3, 8, 7, 9, 9, 0, 1, 1, 5, 2], dtype=uint8)"
      ]
     },
     "execution_count": 65,
     "metadata": {},
     "output_type": "execute_result"
    }
   ],
   "source": [
    "y_train[:10]"
   ]
  },
  {
   "cell_type": "code",
   "execution_count": 66,
   "metadata": {},
   "outputs": [
    {
     "data": {
      "text/plain": [
       "array([[0., 0., 0., 1., 0., 0., 0., 0., 0., 0.],\n",
       "       [0., 0., 0., 0., 0., 0., 0., 0., 1., 0.],\n",
       "       [0., 0., 0., 0., 0., 0., 0., 1., 0., 0.],\n",
       "       [0., 0., 0., 0., 0., 0., 0., 0., 0., 1.],\n",
       "       [0., 0., 0., 0., 0., 0., 0., 0., 0., 1.],\n",
       "       [1., 0., 0., 0., 0., 0., 0., 0., 0., 0.],\n",
       "       [0., 1., 0., 0., 0., 0., 0., 0., 0., 0.],\n",
       "       [0., 1., 0., 0., 0., 0., 0., 0., 0., 0.],\n",
       "       [0., 0., 0., 0., 0., 1., 0., 0., 0., 0.],\n",
       "       [0., 0., 1., 0., 0., 0., 0., 0., 0., 0.]])"
      ]
     },
     "execution_count": 66,
     "metadata": {},
     "output_type": "execute_result"
    }
   ],
   "source": [
    "y_train = to_categorical(y_train)\n",
    "y_test = to_categorical(y_test)\n",
    "y_valid = to_categorical(y_valid)\n",
    "y_train[:10]"
   ]
  },
  {
   "cell_type": "code",
   "execution_count": 67,
   "metadata": {},
   "outputs": [],
   "source": [
    "def download_mnist_and_preprocess():\n",
    "\n",
    "    # download and holdout\n",
    "    (X_all, y_all), (X_test, y_test) = mnist.load_data()\n",
    "    \n",
    "    X_train = X_all[10000:]\n",
    "    X_valid = X_all[:10000]\n",
    "\n",
    "    y_train = y_all[10000:]\n",
    "    y_valid = y_all[:10000]\n",
    "\n",
    "    # normalize pixels to [0, 1] range\n",
    "    X_train = X_train.reshape((X_train.shape[0], 28 * 28))\n",
    "    X_train = X_train.astype(\"float32\") / 255\n",
    "\n",
    "    X_test = X_test.reshape((X_test.shape[0], 28 * 28))\n",
    "    X_test = X_test.astype(\"float32\") / 255\n",
    "\n",
    "    X_valid = X_valid.reshape((X_valid.shape[0], 28 * 28))\n",
    "    X_valid = X_valid.astype(\"float32\") / 255\n",
    "\n",
    "    # one hot encode output\n",
    "    y_train = to_categorical(y_train)\n",
    "    y_test = to_categorical(y_test)\n",
    "    y_valid = to_categorical(y_valid)\n",
    "\n",
    "    return [(X_train, y_train), (X_valid, y_valid), (X_test, y_test)]\n",
    "\n"
   ]
  },
  {
   "cell_type": "code",
   "execution_count": 68,
   "metadata": {},
   "outputs": [],
   "source": [
    "early_stopping = EarlyStopping(\n",
    "    monitor='val_accuracy', \n",
    "    patience=5,\n",
    "    restore_best_weights=True\n",
    ")"
   ]
  },
  {
   "cell_type": "markdown",
   "metadata": {},
   "source": [
    "## Comparando 10 iterações de Random Search para tunar os hiperparâmetros"
   ]
  },
  {
   "cell_type": "markdown",
   "metadata": {},
   "source": [
    "Para cada iteração do random search, comparar performance do modelo final, plotar graficos de acc e loss de treino/val"
   ]
  },
  {
   "cell_type": "code",
   "execution_count": 69,
   "metadata": {},
   "outputs": [],
   "source": [
    "train, valid, test = download_mnist_and_preprocess()\n",
    "\n",
    "X_train, y_train = train\n",
    "X_valid, y_valid = valid"
   ]
  },
  {
   "cell_type": "code",
   "execution_count": 70,
   "metadata": {},
   "outputs": [
    {
     "data": {
      "text/plain": [
       "<Sequential name=sequential_2, built=True>"
      ]
     },
     "execution_count": 70,
     "metadata": {},
     "output_type": "execute_result"
    }
   ],
   "source": [
    "def create_model(num_hidden_layers, neurons_per_layer, activation_func):\n",
    "    model = Sequential()\n",
    "    model.add(Input(shape=(X_train.shape[1],)))\n",
    "    \n",
    "    for _ in range(num_hidden_layers):\n",
    "        model.add(Dense(neurons_per_layer, activation=activation_func))\n",
    "    \n",
    "    model.add(Dense(10, activation='sigmoid'))\n",
    "    \n",
    "    model.compile(\n",
    "        optimizer=\"rmsprop\",\n",
    "        loss=\"categorical_crossentropy\",\n",
    "        metrics=[\"accuracy\"]\n",
    "    )\n",
    "    \n",
    "    return model\n",
    "\n",
    "\n",
    "def build_model(hp):\n",
    "    num_hidden_layers = hp.Int(\"num_hidden_layers\", min_value=1, max_value=5, step=1)\n",
    "    neurons_per_layer = hp.Choice(\"neurons_per_layer\", [128, 200, 300, 400, 500])\n",
    "    activation_func = hp.Choice(\"activation\", [\"relu\", \"sigmoid\"])\n",
    "    \n",
    "    # call existing model-building code with the hyperparameter values.\n",
    "    model = create_model(\n",
    "        num_hidden_layers=num_hidden_layers, neurons_per_layer=neurons_per_layer, activation_func=activation_func\n",
    "    )\n",
    "    return model\n",
    "\n",
    "\n",
    "build_model(keras_tuner.HyperParameters())"
   ]
  },
  {
   "cell_type": "code",
   "execution_count": 71,
   "metadata": {},
   "outputs": [
    {
     "name": "stdout",
     "output_type": "stream",
     "text": [
      "Trial 10 Complete [00h 02m 03s]\n",
      "val_accuracy: 0.9822999835014343\n",
      "\n",
      "Best val_accuracy So Far: 0.984499990940094\n",
      "Total elapsed time: 00h 13m 46s\n",
      "Best hyperparameters 10: {'num_hidden_layers': 2, 'neurons_per_layer': 500, 'activation': 'relu'}\n"
     ]
    }
   ],
   "source": [
    "results = []\n",
    "for i in range(10):\n",
    "    print(f\"Running Search {i+1}\")\n",
    "    tuner = keras_tuner.RandomSearch(\n",
    "        build_model,\n",
    "        objective='val_accuracy',\n",
    "        seed=RANDOM_STATE,\n",
    "        directory=\"./\",\n",
    "        project_name=\"training/\",\n",
    "        overwrite=True\n",
    "    )\n",
    "\n",
    "    # Perform the search\n",
    "    tuner.search(\n",
    "        X_train, y_train,\n",
    "        epochs=50,\n",
    "        validation_data=(X_valid, y_valid),\n",
    "        callbacks=[early_stopping],\n",
    "        batch_size=64,\n",
    "        verbose=1\n",
    "    )\n",
    "\n",
    "    # Retrieve the best model\n",
    "    best_model = tuner.get_best_models(num_models=1)[0]\n",
    "\n",
    "    # Print the best hyperparameters\n",
    "    best_hyperparameters = tuner.get_best_hyperparameters(num_trials=1)[0]\n",
    "    print(f\"Best hyperparameters {i+1}: {best_hyperparameters.values}\")\n",
    "\n",
    "    results.append({\"model\": best_model, \"hyperparameters\": best_hyperparameters})"
   ]
  },
  {
   "cell_type": "code",
   "execution_count": 72,
   "metadata": {},
   "outputs": [
    {
     "name": "stdout",
     "output_type": "stream",
     "text": [
      "{'num_hidden_layers': 2, 'neurons_per_layer': 500, 'activation': 'relu'}\n",
      "{'num_hidden_layers': 2, 'neurons_per_layer': 500, 'activation': 'relu'}\n",
      "{'num_hidden_layers': 2, 'neurons_per_layer': 500, 'activation': 'relu'}\n",
      "{'num_hidden_layers': 2, 'neurons_per_layer': 500, 'activation': 'relu'}\n",
      "{'num_hidden_layers': 4, 'neurons_per_layer': 500, 'activation': 'relu'}\n",
      "{'num_hidden_layers': 2, 'neurons_per_layer': 500, 'activation': 'relu'}\n",
      "{'num_hidden_layers': 2, 'neurons_per_layer': 500, 'activation': 'relu'}\n",
      "{'num_hidden_layers': 2, 'neurons_per_layer': 500, 'activation': 'relu'}\n",
      "{'num_hidden_layers': 2, 'neurons_per_layer': 500, 'activation': 'relu'}\n",
      "{'num_hidden_layers': 2, 'neurons_per_layer': 500, 'activation': 'relu'}\n"
     ]
    }
   ],
   "source": [
    "for result in results:\n",
    "    print(result[\"hyperparameters\"].values)"
   ]
  },
  {
   "cell_type": "markdown",
   "metadata": {},
   "source": [
    "Acima foi utilizado o RandomSearch do Keras 10 vezes, com 10 trials cada vez que encontrou a config {'num_hidden_layers': 2, 'neurons_per_layer': 500, 'activation': 'relu'} em TODAS as iterações. Uma análise visual enquanto o search rodava apontou que a busca não muda a ordem aleatoriamente em cada vez, ela segue um padrão, portanto, é compreensível que em 10 trials para cada uma das 10 iterações o search tenha encontrado a melhor configuração ótima."
   ]
  }
 ],
 "metadata": {
  "kernelspec": {
   "display_name": "Python 3 (ipykernel)",
   "language": "python",
   "name": "python3"
  },
  "language_info": {
   "codemirror_mode": {
    "name": "ipython",
    "version": 3
   },
   "file_extension": ".py",
   "mimetype": "text/x-python",
   "name": "python",
   "nbconvert_exporter": "python",
   "pygments_lexer": "ipython3",
   "version": "3.10.14"
  }
 },
 "nbformat": 4,
 "nbformat_minor": 2
}
